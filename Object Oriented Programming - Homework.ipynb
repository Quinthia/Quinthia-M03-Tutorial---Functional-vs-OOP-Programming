{
 "cells": [
  {
   "cell_type": "code",
   "execution_count": 18,
   "id": "59c0e968",
   "metadata": {},
   "outputs": [],
   "source": [
    "#Jordy Jordan\n",
    "#Problem 1\n",
    "#I will need a lot of help with this one\n",
    "class Line(object):\n",
    "    \n",
    "    #These coordinates are tuples\n",
    "    def __init__(self,coor1,coor2):\n",
    "        #The coordinates will now be attributes\n",
    "        self.coor1 = coor1\n",
    "        self.coor2 = coor2\n",
    "        #or this\n",
    "        #self.x1 = coor1[0]\n",
    "        #elf.x2 = coor2[0]\n",
    "        #elf.y1 = coor1[1]\n",
    "        #elf.y2 = coor2[1]\n",
    "    \n",
    "    def distance(self):\n",
    "        #This is one way but it doesn't really use anything like unpacking a tuple\n",
    "        #Even though it is much simpler I don't like it\n",
    "        \n",
    "        #return ((self.coor2[0] - self.coor1[0])**2 + \\\n",
    "        #(self.coor2[1] - self.coor1[1])**2)**0.5\\\n",
    "        \n",
    "        \n",
    "        #tuple unpacking\n",
    "        x1,y1= self.coor1\n",
    "        x2,y2 = self.coor2\n",
    "        \n",
    "        #below is the actual formula for distence and I know what variables I am dealing with\n",
    "        return ((x2-x1)**2+(y2-y1)**2)**0.5 \n",
    "    \n",
    "    def slope(self):\n",
    "        #same thing as before it is simpler \n",
    "        #return (self.coor2[1] - self.coor1[1]) / \\\n",
    "        #        (self.coor2[0] - self.coor1[0])\n",
    "        \n",
    "        #tuple unpacking same as before\n",
    "      x1,y1 = self.coor1\n",
    "      x2,y2 = self.coor2\n",
    "        \n",
    "    "
   ]
  },
  {
   "cell_type": "code",
   "execution_count": 19,
   "id": "1926476b",
   "metadata": {},
   "outputs": [],
   "source": [
    "#EXAMPLE OUTPUT\n",
    "\n",
    "coordinate1 = (3,2)\n",
    "coordinate2 = (8,10)\n",
    "\n",
    "li = Line(coordinate1, coordinate2)"
   ]
  },
  {
   "cell_type": "code",
   "execution_count": 20,
   "id": "5b099566",
   "metadata": {},
   "outputs": [
    {
     "data": {
      "text/plain": [
       "9.433981132056603"
      ]
     },
     "execution_count": 20,
     "metadata": {},
     "output_type": "execute_result"
    }
   ],
   "source": [
    "li.distance()"
   ]
  },
  {
   "cell_type": "code",
   "execution_count": 21,
   "id": "b2eaa414",
   "metadata": {},
   "outputs": [],
   "source": [
    "li.slope()"
   ]
  },
  {
   "cell_type": "code",
   "execution_count": 22,
   "id": "c65e6ae8",
   "metadata": {},
   "outputs": [],
   "source": [
    "#Problem 2\n",
    "class Cylinder:\n",
    "    #pi = 3.14\n",
    "    \n",
    "    def __init__(self, height=1, radius=1):\n",
    "        self.height = height\n",
    "        self.radius = radius\n",
    "        \n",
    "    def volume(self):\n",
    "        return self.height *3.14* (self.radius)**2\n",
    "        #or\n",
    "        #return Cylinder.pi * (self.radius**2) * self.height\n",
    "    \n",
    "    def surface_area(self):\n",
    "        \n",
    "        top =3.14* (self.radius**2)\n",
    "        \n",
    "        return (2*top) + (2*3.14*self.radius*self.height)\n",
    "        #or\n",
    "        #circles = 2 * Cylinder.pi * self.radius**2\n",
    "        #wall = 2 * Cylinder.pi * self.radius * self.height\n",
    "        #return circles + wall"
   ]
  },
  {
   "cell_type": "code",
   "execution_count": 23,
   "id": "03510b2d",
   "metadata": {},
   "outputs": [],
   "source": [
    "#EXAMPLE OUTPUT\n",
    "c = Cylinder(2,3)"
   ]
  },
  {
   "cell_type": "code",
   "execution_count": 24,
   "id": "acd1f0b5",
   "metadata": {},
   "outputs": [
    {
     "data": {
      "text/plain": [
       "56.52"
      ]
     },
     "execution_count": 24,
     "metadata": {},
     "output_type": "execute_result"
    }
   ],
   "source": [
    "c.volume()"
   ]
  },
  {
   "cell_type": "code",
   "execution_count": 25,
   "id": "1e7f5744",
   "metadata": {},
   "outputs": [
    {
     "data": {
      "text/plain": [
       "94.2"
      ]
     },
     "execution_count": 25,
     "metadata": {},
     "output_type": "execute_result"
    }
   ],
   "source": [
    "c.surface_area()"
   ]
  },
  {
   "cell_type": "code",
   "execution_count": null,
   "id": "4b85c1e3",
   "metadata": {},
   "outputs": [],
   "source": []
  }
 ],
 "metadata": {
  "kernelspec": {
   "display_name": "Python 3 (ipykernel)",
   "language": "python",
   "name": "python3"
  },
  "language_info": {
   "codemirror_mode": {
    "name": "ipython",
    "version": 3
   },
   "file_extension": ".py",
   "mimetype": "text/x-python",
   "name": "python",
   "nbconvert_exporter": "python",
   "pygments_lexer": "ipython3",
   "version": "3.9.13"
  }
 },
 "nbformat": 4,
 "nbformat_minor": 5
}
