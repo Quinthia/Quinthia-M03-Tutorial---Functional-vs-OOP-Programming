{
 "cells": [
  {
   "cell_type": "code",
   "execution_count": 1,
   "id": "8de7164f",
   "metadata": {},
   "outputs": [],
   "source": [
    "#Jordy Jordan\n",
    "#1 Write a function that computes the volume of a sphere given its radius.\n",
    "\n",
    "def vol(rad): \n",
    "    return (4 * 3.14 * rad ** 3) / 3 #I remember doing this on a past class so it was rather refeshing"
   ]
  },
  {
   "cell_type": "code",
   "execution_count": 2,
   "id": "61563297",
   "metadata": {},
   "outputs": [
    {
     "data": {
      "text/plain": [
       "33.49333333333333"
      ]
     },
     "execution_count": 2,
     "metadata": {},
     "output_type": "execute_result"
    }
   ],
   "source": [
    "vol(2)"
   ]
  },
  {
   "cell_type": "code",
   "execution_count": 3,
   "id": "0be75f1a",
   "metadata": {},
   "outputs": [],
   "source": [
    "#2 Write a function that checks whether a number is in a given range (Inclusive of high and low)\n",
    "\n",
    "def ran_check(num,low,high):\n",
    "    \n",
    "    #I also remember doing this \n",
    "    if num in range(low,high+1):#+1 becouse we want to include every number\n",
    "        print(\"The number \", num ,\" is in a range\")\n",
    "    else:\n",
    "        print(\"The number \", num ,\" is out of the range\")"
   ]
  },
  {
   "cell_type": "code",
   "execution_count": 4,
   "id": "43829e53",
   "metadata": {},
   "outputs": [
    {
     "name": "stdout",
     "output_type": "stream",
     "text": [
      "The number  5  is in a range\n"
     ]
    }
   ],
   "source": [
    "ran_check(5,2,7)"
   ]
  },
  {
   "cell_type": "code",
   "execution_count": 5,
   "id": "778a73dc",
   "metadata": {},
   "outputs": [],
   "source": [
    "#3 Write a Python function that accepts a string and calculate the number of upper case letters and lower case letters.\n",
    "\n",
    "def up_low(s):\n",
    "    up=0 #upper\n",
    "    low=0 #lower\n",
    "    #in this for statement it will look at each letter\n",
    "    for i in s:\n",
    "        if i.isupper():#if the letter is upper then it adds a number to up\n",
    "            up+=1\n",
    "        elif i.islower():#if the letter is lower then it adds a number to low\n",
    "            low+=1\n",
    "    print(\"There are \", up ,\" upper charters!\")\n",
    "    print(\"There are \", low ,\" lower charters!\")"
   ]
  },
  {
   "cell_type": "code",
   "execution_count": 6,
   "id": "d91e1607",
   "metadata": {},
   "outputs": [
    {
     "name": "stdout",
     "output_type": "stream",
     "text": [
      "There are  4  upper charters!\n",
      "There are  33  lower charters!\n"
     ]
    }
   ],
   "source": [
    "s = 'Hello Mr. Rogers, how are you this fine Tuesday?'\n",
    "up_low(s)"
   ]
  },
  {
   "cell_type": "code",
   "execution_count": 7,
   "id": "2428345b",
   "metadata": {},
   "outputs": [],
   "source": [
    "#4 Write a Python function that takes a list and returns a new list with unique elements of the first list.\n",
    "\n",
    "def unique_list(lst):\n",
    "    \n",
    "    unique = []#creating another list to store the unique characters\n",
    " \n",
    "    for i in lst:#looks in the unique_list/lst\n",
    "        if i not in unique:#adds the character/number if is not in the empty list\n",
    "            unique.append(i)\n",
    "    \n",
    "    for i in unique:#prints the list of unique characters\n",
    "        print (i) "
   ]
  },
  {
   "cell_type": "code",
   "execution_count": 8,
   "id": "fafd8824",
   "metadata": {},
   "outputs": [
    {
     "name": "stdout",
     "output_type": "stream",
     "text": [
      "1\n",
      "2\n",
      "3\n",
      "4\n",
      "5\n"
     ]
    }
   ],
   "source": [
    "unique_list([1,1,1,1,2,2,3,3,3,3,4,5])"
   ]
  },
  {
   "cell_type": "code",
   "execution_count": 9,
   "id": "2057ce31",
   "metadata": {},
   "outputs": [],
   "source": [
    "#5 Write a Python function to multiply all the numbers in a list.\n",
    "\n",
    "def multiply(numbers):#numbers is a list\n",
    "    ans = 1 #it starts at 1 because it will muliply by 1 and I dont want my answer to be 0\n",
    "    for i in numbers:\n",
    "        ans = ans * i#multiplies everything\n",
    "    return ans #prints the answer"
   ]
  },
  {
   "cell_type": "code",
   "execution_count": 10,
   "id": "7b91b0c9",
   "metadata": {},
   "outputs": [
    {
     "data": {
      "text/plain": [
       "-24"
      ]
     },
     "execution_count": 10,
     "metadata": {},
     "output_type": "execute_result"
    }
   ],
   "source": [
    "multiply([1,2,3,-4])"
   ]
  },
  {
   "cell_type": "code",
   "execution_count": 11,
   "id": "46b5c7a6",
   "metadata": {},
   "outputs": [],
   "source": [
    "#6 Write a Python function that checks whether a passed string is palindrome or not.\n",
    "#This was by far one of the most challenging ones\n",
    "def palindrome(s):\n",
    "    #I need help with this part, so looked it up and this was moslty what people suggested\n",
    "    s = s.replace(' ','') #It removes the spaces so that it doesn't have an effect on the result\n",
    "    return s == s[::-1] #It looks from the start to the end and it checks if the string is the same once it's reversed"
   ]
  },
  {
   "cell_type": "code",
   "execution_count": 12,
   "id": "4d121766",
   "metadata": {},
   "outputs": [
    {
     "data": {
      "text/plain": [
       "True"
      ]
     },
     "execution_count": 12,
     "metadata": {},
     "output_type": "execute_result"
    }
   ],
   "source": [
    "palindrome('helleh')"
   ]
  },
  {
   "cell_type": "code",
   "execution_count": 13,
   "id": "81558575",
   "metadata": {},
   "outputs": [],
   "source": [
    "#7 Write a Python function to check whether a string is pangram or not.\n",
    "\n",
    "import string\n",
    "def ispangram(str1, alphabet=string.ascii_lowercase):\n",
    "    \n",
    "    alpha = set(alphabet) #The alphabet in set (I also look this up) but is just to contain related items in one variable\n",
    "    \n",
    "    str1=str1.lower() #make everything low before doing anything at all\n",
    "\n",
    "    str1=str1.replace(' ','') #I used this on the last exercise so I know its important to eliminate white spaces\n",
    "    \n",
    "    #got an error \"TypeError: '<=' not supported between instances of 'set' and 'str'\"\n",
    "    str1 = set(str1) #I guess I need to make it the same as alpha\n",
    "    \n",
    "    return alpha <= str1 #I had to look this part up because it was really confusing"
   ]
  },
  {
   "cell_type": "code",
   "execution_count": 14,
   "id": "4f96cd2b",
   "metadata": {},
   "outputs": [
    {
     "data": {
      "text/plain": [
       "True"
      ]
     },
     "execution_count": 14,
     "metadata": {},
     "output_type": "execute_result"
    }
   ],
   "source": [
    "ispangram(\"The quick brown fox jumps over the lazy dog\")"
   ]
  },
  {
   "cell_type": "code",
   "execution_count": 15,
   "id": "90e02a36",
   "metadata": {},
   "outputs": [
    {
     "data": {
      "text/plain": [
       "'abcdefghijklmnopqrstuvwxyz'"
      ]
     },
     "execution_count": 15,
     "metadata": {},
     "output_type": "execute_result"
    }
   ],
   "source": [
    "string.ascii_lowercase"
   ]
  },
  {
   "cell_type": "code",
   "execution_count": null,
   "id": "d63da5e4",
   "metadata": {},
   "outputs": [],
   "source": []
  }
 ],
 "metadata": {
  "kernelspec": {
   "display_name": "Python 3 (ipykernel)",
   "language": "python",
   "name": "python3"
  },
  "language_info": {
   "codemirror_mode": {
    "name": "ipython",
    "version": 3
   },
   "file_extension": ".py",
   "mimetype": "text/x-python",
   "name": "python",
   "nbconvert_exporter": "python",
   "pygments_lexer": "ipython3",
   "version": "3.9.13"
  }
 },
 "nbformat": 4,
 "nbformat_minor": 5
}
